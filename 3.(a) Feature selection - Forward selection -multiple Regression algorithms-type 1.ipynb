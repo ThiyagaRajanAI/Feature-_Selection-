{
 "cells": [
  {
   "cell_type": "code",
   "execution_count": 1,
   "id": "0f1d149b",
   "metadata": {},
   "outputs": [],
   "source": [
    "#Install mlxtend if not already installed\n",
    "#!pip install mlxten\n"
   ]
  },
  {
   "cell_type": "code",
   "execution_count": 2,
   "id": "b6a0fa78",
   "metadata": {},
   "outputs": [],
   "source": [
    "import pandas as pd\n",
    "from sklearn.model_selection import train_test_split\n",
    "from sklearn.linear_model import LinearRegression\n",
    "from sklearn.ensemble import RandomForestRegressor\n",
    "from sklearn.tree import DecisionTreeRegressor\n",
    "from sklearn.svm import SVR\n",
    "from sklearn.metrics import r2_score\n",
    "from mlxtend.feature_selection import SequentialFeatureSelector\n",
    "from sklearn.preprocessing import StandardScaler   \n",
    "import matplotlib.pyplot as plt"
   ]
  },
  {
   "cell_type": "code",
   "execution_count": 3,
   "id": "75dfe442",
   "metadata": {},
   "outputs": [],
   "source": [
    "dataset1=pd.read_csv(\"Concrete_Data_Yeh.csv\",index_col=None)"
   ]
  },
  {
   "cell_type": "code",
   "execution_count": 4,
   "id": "0b968699",
   "metadata": {},
   "outputs": [
    {
     "data": {
      "text/html": [
       "<div>\n",
       "<style scoped>\n",
       "    .dataframe tbody tr th:only-of-type {\n",
       "        vertical-align: middle;\n",
       "    }\n",
       "\n",
       "    .dataframe tbody tr th {\n",
       "        vertical-align: top;\n",
       "    }\n",
       "\n",
       "    .dataframe thead th {\n",
       "        text-align: right;\n",
       "    }\n",
       "</style>\n",
       "<table border=\"1\" class=\"dataframe\">\n",
       "  <thead>\n",
       "    <tr style=\"text-align: right;\">\n",
       "      <th></th>\n",
       "      <th>cement</th>\n",
       "      <th>slag</th>\n",
       "      <th>flyash</th>\n",
       "      <th>water</th>\n",
       "      <th>superplasticizer</th>\n",
       "      <th>coarseaggregate</th>\n",
       "      <th>fineaggregate</th>\n",
       "      <th>age</th>\n",
       "      <th>csMPa</th>\n",
       "    </tr>\n",
       "  </thead>\n",
       "  <tbody>\n",
       "    <tr>\n",
       "      <th>0</th>\n",
       "      <td>540.0</td>\n",
       "      <td>0.0</td>\n",
       "      <td>0.0</td>\n",
       "      <td>162.0</td>\n",
       "      <td>2.5</td>\n",
       "      <td>1040.0</td>\n",
       "      <td>676.0</td>\n",
       "      <td>28</td>\n",
       "      <td>79.99</td>\n",
       "    </tr>\n",
       "    <tr>\n",
       "      <th>1</th>\n",
       "      <td>540.0</td>\n",
       "      <td>0.0</td>\n",
       "      <td>0.0</td>\n",
       "      <td>162.0</td>\n",
       "      <td>2.5</td>\n",
       "      <td>1055.0</td>\n",
       "      <td>676.0</td>\n",
       "      <td>28</td>\n",
       "      <td>61.89</td>\n",
       "    </tr>\n",
       "    <tr>\n",
       "      <th>2</th>\n",
       "      <td>332.5</td>\n",
       "      <td>142.5</td>\n",
       "      <td>0.0</td>\n",
       "      <td>228.0</td>\n",
       "      <td>0.0</td>\n",
       "      <td>932.0</td>\n",
       "      <td>594.0</td>\n",
       "      <td>270</td>\n",
       "      <td>40.27</td>\n",
       "    </tr>\n",
       "    <tr>\n",
       "      <th>3</th>\n",
       "      <td>332.5</td>\n",
       "      <td>142.5</td>\n",
       "      <td>0.0</td>\n",
       "      <td>228.0</td>\n",
       "      <td>0.0</td>\n",
       "      <td>932.0</td>\n",
       "      <td>594.0</td>\n",
       "      <td>365</td>\n",
       "      <td>41.05</td>\n",
       "    </tr>\n",
       "    <tr>\n",
       "      <th>4</th>\n",
       "      <td>198.6</td>\n",
       "      <td>132.4</td>\n",
       "      <td>0.0</td>\n",
       "      <td>192.0</td>\n",
       "      <td>0.0</td>\n",
       "      <td>978.4</td>\n",
       "      <td>825.5</td>\n",
       "      <td>360</td>\n",
       "      <td>44.30</td>\n",
       "    </tr>\n",
       "    <tr>\n",
       "      <th>...</th>\n",
       "      <td>...</td>\n",
       "      <td>...</td>\n",
       "      <td>...</td>\n",
       "      <td>...</td>\n",
       "      <td>...</td>\n",
       "      <td>...</td>\n",
       "      <td>...</td>\n",
       "      <td>...</td>\n",
       "      <td>...</td>\n",
       "    </tr>\n",
       "    <tr>\n",
       "      <th>1025</th>\n",
       "      <td>276.4</td>\n",
       "      <td>116.0</td>\n",
       "      <td>90.3</td>\n",
       "      <td>179.6</td>\n",
       "      <td>8.9</td>\n",
       "      <td>870.1</td>\n",
       "      <td>768.3</td>\n",
       "      <td>28</td>\n",
       "      <td>44.28</td>\n",
       "    </tr>\n",
       "    <tr>\n",
       "      <th>1026</th>\n",
       "      <td>322.2</td>\n",
       "      <td>0.0</td>\n",
       "      <td>115.6</td>\n",
       "      <td>196.0</td>\n",
       "      <td>10.4</td>\n",
       "      <td>817.9</td>\n",
       "      <td>813.4</td>\n",
       "      <td>28</td>\n",
       "      <td>31.18</td>\n",
       "    </tr>\n",
       "    <tr>\n",
       "      <th>1027</th>\n",
       "      <td>148.5</td>\n",
       "      <td>139.4</td>\n",
       "      <td>108.6</td>\n",
       "      <td>192.7</td>\n",
       "      <td>6.1</td>\n",
       "      <td>892.4</td>\n",
       "      <td>780.0</td>\n",
       "      <td>28</td>\n",
       "      <td>23.70</td>\n",
       "    </tr>\n",
       "    <tr>\n",
       "      <th>1028</th>\n",
       "      <td>159.1</td>\n",
       "      <td>186.7</td>\n",
       "      <td>0.0</td>\n",
       "      <td>175.6</td>\n",
       "      <td>11.3</td>\n",
       "      <td>989.6</td>\n",
       "      <td>788.9</td>\n",
       "      <td>28</td>\n",
       "      <td>32.77</td>\n",
       "    </tr>\n",
       "    <tr>\n",
       "      <th>1029</th>\n",
       "      <td>260.9</td>\n",
       "      <td>100.5</td>\n",
       "      <td>78.3</td>\n",
       "      <td>200.6</td>\n",
       "      <td>8.6</td>\n",
       "      <td>864.5</td>\n",
       "      <td>761.5</td>\n",
       "      <td>28</td>\n",
       "      <td>32.40</td>\n",
       "    </tr>\n",
       "  </tbody>\n",
       "</table>\n",
       "<p>1030 rows × 9 columns</p>\n",
       "</div>"
      ],
      "text/plain": [
       "      cement   slag  flyash  water  superplasticizer  coarseaggregate  \\\n",
       "0      540.0    0.0     0.0  162.0               2.5           1040.0   \n",
       "1      540.0    0.0     0.0  162.0               2.5           1055.0   \n",
       "2      332.5  142.5     0.0  228.0               0.0            932.0   \n",
       "3      332.5  142.5     0.0  228.0               0.0            932.0   \n",
       "4      198.6  132.4     0.0  192.0               0.0            978.4   \n",
       "...      ...    ...     ...    ...               ...              ...   \n",
       "1025   276.4  116.0    90.3  179.6               8.9            870.1   \n",
       "1026   322.2    0.0   115.6  196.0              10.4            817.9   \n",
       "1027   148.5  139.4   108.6  192.7               6.1            892.4   \n",
       "1028   159.1  186.7     0.0  175.6              11.3            989.6   \n",
       "1029   260.9  100.5    78.3  200.6               8.6            864.5   \n",
       "\n",
       "      fineaggregate  age  csMPa  \n",
       "0             676.0   28  79.99  \n",
       "1             676.0   28  61.89  \n",
       "2             594.0  270  40.27  \n",
       "3             594.0  365  41.05  \n",
       "4             825.5  360  44.30  \n",
       "...             ...  ...    ...  \n",
       "1025          768.3   28  44.28  \n",
       "1026          813.4   28  31.18  \n",
       "1027          780.0   28  23.70  \n",
       "1028          788.9   28  32.77  \n",
       "1029          761.5   28  32.40  \n",
       "\n",
       "[1030 rows x 9 columns]"
      ]
     },
     "execution_count": 4,
     "metadata": {},
     "output_type": "execute_result"
    }
   ],
   "source": [
    "df2=dataset1\n",
    "\n",
    "df2 = pd.get_dummies(df2, drop_first=True)\n",
    "\n",
    "df2\n"
   ]
  },
  {
   "cell_type": "code",
   "execution_count": 5,
   "id": "e8c2e222",
   "metadata": {},
   "outputs": [],
   "source": [
    "indep_X=df2.drop('csMPa', axis=1)#drop output column separately using drop_function\n",
    "dep_Y=df2['csMPa']"
   ]
  },
  {
   "cell_type": "code",
   "execution_count": 6,
   "id": "0f6261f1",
   "metadata": {},
   "outputs": [],
   "source": [
    "# Split the data into training and testing sets\n",
    "X_train, X_test, y_train, y_test = train_test_split(indep_X, dep_Y, test_size=0.2, random_state=42)\n"
   ]
  },
  {
   "cell_type": "code",
   "execution_count": 7,
   "id": "2b721f1f",
   "metadata": {},
   "outputs": [],
   "source": [
    "# Create a StandardScaler \n",
    "scaler = StandardScaler()\n",
    "# Scale the data\n",
    "X_train_scaled = scaler.fit_transform(X_train)\n",
    "X_test_scaled = scaler.transform(X_test)"
   ]
  },
  {
   "cell_type": "code",
   "execution_count": 8,
   "id": "b5305f24",
   "metadata": {},
   "outputs": [],
   "source": [
    "log_model=LinearRegression()\n",
    "RF=RandomForestRegressor(n_estimators = 10, random_state = 0)\n",
    "DT=DecisionTreeRegressor(random_state = 0)\n",
    "SVM=SVR(kernel='linear')\n",
    "SVM_NL=SVR(kernel='rbf')    "
   ]
  },
  {
   "cell_type": "code",
   "execution_count": 9,
   "id": "6b374120",
   "metadata": {},
   "outputs": [],
   "source": [
    "#verbose is used to see the model result is training section , we will verbose with or without in the function \n",
    "#sfs = SequentialFeatureSelector(log_model, k_features='best',forward=True,floating=False,verbose=2,scoring='accuracy',cv=5)\n",
    "sfs = SequentialFeatureSelector(log_model, k_features='best',forward=True,floating=False,scoring='r2',cv=5)\n"
   ]
  },
  {
   "cell_type": "code",
   "execution_count": 10,
   "id": "f3572aa2",
   "metadata": {},
   "outputs": [],
   "source": [
    "#sfs1=sfs.fit(X_train_scaled, y_train)"
   ]
  },
  {
   "cell_type": "code",
   "execution_count": 11,
   "id": "260c0e58",
   "metadata": {},
   "outputs": [],
   "source": [
    "#selected_features_idx = list(sfs1.k_feature_idx_) "
   ]
  },
  {
   "cell_type": "code",
   "execution_count": 12,
   "id": "2922eb74",
   "metadata": {},
   "outputs": [],
   "source": [
    "#selected_features_idx"
   ]
  },
  {
   "cell_type": "code",
   "execution_count": 13,
   "id": "117c0b23",
   "metadata": {},
   "outputs": [],
   "source": [
    "#selected_features_names = list(sfs1.k_feature_names_) "
   ]
  },
  {
   "cell_type": "code",
   "execution_count": 14,
   "id": "7a62d577",
   "metadata": {},
   "outputs": [],
   "source": [
    "#selected_features_names"
   ]
  },
  {
   "cell_type": "code",
   "execution_count": 15,
   "id": "9f125db5",
   "metadata": {},
   "outputs": [],
   "source": [
    "#selected_features_score = sfs1.k_score_"
   ]
  },
  {
   "cell_type": "code",
   "execution_count": 16,
   "id": "b6a29ce2",
   "metadata": {},
   "outputs": [],
   "source": [
    "#selected_features_score"
   ]
  },
  {
   "cell_type": "code",
   "execution_count": 17,
   "id": "66792923",
   "metadata": {},
   "outputs": [],
   "source": [
    "#sf=sfs1.get_metric_dict()"
   ]
  },
  {
   "cell_type": "code",
   "execution_count": 18,
   "id": "c3374c15",
   "metadata": {},
   "outputs": [],
   "source": [
    "#sf"
   ]
  },
  {
   "cell_type": "code",
   "execution_count": 19,
   "id": "2bde9c97",
   "metadata": {},
   "outputs": [],
   "source": [
    "#results=pd.DataFrame.from_dict(sfs1.get_metric_dict()).T"
   ]
  },
  {
   "cell_type": "code",
   "execution_count": 20,
   "id": "b9ce78c2",
   "metadata": {},
   "outputs": [],
   "source": [
    "#results"
   ]
  },
  {
   "cell_type": "code",
   "execution_count": 21,
   "id": "5305f382",
   "metadata": {},
   "outputs": [],
   "source": [
    "#verbose is used to see the model result is training section , we will verbose with or without in the function \n",
    "#sfs = SequentialFeatureSelector(log_model, k_features='best',forward=True,floating=False,verbose=2,scoring='accuracy',cv=5)"
   ]
  },
  {
   "cell_type": "code",
   "execution_count": 22,
   "id": "8f83c4d3",
   "metadata": {},
   "outputs": [],
   "source": [
    "def LOG_SFS(log_model,X_train_scaled,y_train):\n",
    "    \n",
    "    sfs = SequentialFeatureSelector(log_model, k_features='best',forward=True,floating=False,scoring='r2',cv=5)\n",
    "    sfs1=sfs.fit(X_train_scaled, y_train)\n",
    "    selected_features_idx = list(sfs1.k_feature_idx_) \n",
    "    selected_features_names = list(sfs1.k_feature_names_) \n",
    "    selected_features_score = sfs1.k_score_\n",
    "    sf=sfs1.get_metric_dict()\n",
    "    results=pd.DataFrame.from_dict((sf)).T\n",
    "    return selected_features_idx,selected_features_names, selected_features_score,sf,results\n",
    "\n",
    "\n",
    "def RF_SFS(RF,X_train_scaled,y_train):\n",
    "    \n",
    "    sfs = SequentialFeatureSelector(RF, k_features='best',forward=True,floating=False,scoring='r2',cv=5)\n",
    "    sfs_1=sfs.fit(X_train_scaled, y_train)\n",
    "    selected_features_idx = list(sfs_1.k_feature_idx_) \n",
    "    selected_features_names = list(sfs_1.k_feature_names_) \n",
    "    selected_features_score = sfs_1.k_score_\n",
    "    sfd=sfs_1.get_metric_dict()\n",
    "    results=pd.DataFrame.from_dict((sfd)).T\n",
    "    return selected_features_idx,selected_features_names, selected_features_score,sfd,results\n",
    "\n",
    "\n",
    "def DT_SFS(DT,X_train_scaled,y_train):\n",
    "    \n",
    "    sfs = SequentialFeatureSelector(DT, k_features='best',forward=True,floating=False,scoring='r2',cv=5)\n",
    "    sfs2=sfs.fit(X_train_scaled, y_train)\n",
    "    selected_features_idx = list(sfs2.k_feature_idx_) \n",
    "    selected_features_names = list(sfs2.k_feature_names_) \n",
    "    selected_features_score = sfs2.k_score_\n",
    "    sfn=sfs2.get_metric_dict()\n",
    "    results=pd.DataFrame.from_dict((sfn)).T\n",
    "    return selected_features_idx,selected_features_names, selected_features_score,sfn,results\n",
    "\n",
    "\n",
    "def SVM_SFS(SVM,X_train_scaled,y_train):\n",
    "    \n",
    "    sfs = SequentialFeatureSelector(SVM, k_features='best',forward=True,floating=False,scoring='r2',cv=5)\n",
    "    sfs3=sfs.fit(X_train_scaled, y_train)\n",
    "    selected_features_idx = list(sfs3.k_feature_idx_) \n",
    "    selected_features_names = list(sfs3.k_feature_names_) \n",
    "    selected_features_score = sfs3.k_score_\n",
    "    sfe=sfs3.get_metric_dict()\n",
    "    results=pd.DataFrame.from_dict((sfe)).T\n",
    "    return selected_features_idx,selected_features_names, selected_features_score,sfe,results\n",
    "\n",
    "\n",
    "def SVM_NL_SFS(SVM_NL,X_train_scaled,y_train):\n",
    "    \n",
    "    sfs = SequentialFeatureSelector(SVM_NL, k_features='best',forward=True,floating=False,scoring='r2',cv=5)\n",
    "    sfs4=sfs.fit(X_train_scaled, y_train)\n",
    "    selected_features_idx = list(sfs4.k_feature_idx_) \n",
    "    selected_features_names = list(sfs4.k_feature_names_) \n",
    "    selected_features_score = sfs4.k_score_\n",
    "    sfa=sfs4.get_metric_dict()\n",
    "    results=pd.DataFrame.from_dict((sfa)).T\n",
    "    return selected_features_idx,selected_features_names, selected_features_score,sfa,results\n",
    "\n",
    "\n"
   ]
  },
  {
   "cell_type": "code",
   "execution_count": 23,
   "id": "85054de9",
   "metadata": {},
   "outputs": [],
   "source": [
    "selected_features_idx,selected_features_names, selected_features_score,sf,results=LOG_SFS(log_model,X_train_scaled,y_train)"
   ]
  },
  {
   "cell_type": "code",
   "execution_count": 24,
   "id": "91f0fbba",
   "metadata": {},
   "outputs": [
    {
     "data": {
      "text/html": [
       "<div>\n",
       "<style scoped>\n",
       "    .dataframe tbody tr th:only-of-type {\n",
       "        vertical-align: middle;\n",
       "    }\n",
       "\n",
       "    .dataframe tbody tr th {\n",
       "        vertical-align: top;\n",
       "    }\n",
       "\n",
       "    .dataframe thead th {\n",
       "        text-align: right;\n",
       "    }\n",
       "</style>\n",
       "<table border=\"1\" class=\"dataframe\">\n",
       "  <thead>\n",
       "    <tr style=\"text-align: right;\">\n",
       "      <th></th>\n",
       "      <th>feature_idx</th>\n",
       "      <th>cv_scores</th>\n",
       "      <th>avg_score</th>\n",
       "      <th>feature_names</th>\n",
       "      <th>ci_bound</th>\n",
       "      <th>std_dev</th>\n",
       "      <th>std_err</th>\n",
       "    </tr>\n",
       "  </thead>\n",
       "  <tbody>\n",
       "    <tr>\n",
       "      <th>1</th>\n",
       "      <td>(0,)</td>\n",
       "      <td>[0.2747242991845942, 0.23987623163020555, 0.29...</td>\n",
       "      <td>0.236714</td>\n",
       "      <td>(0,)</td>\n",
       "      <td>0.0761529</td>\n",
       "      <td>0.0592496</td>\n",
       "      <td>0.0296248</td>\n",
       "    </tr>\n",
       "    <tr>\n",
       "      <th>2</th>\n",
       "      <td>(0, 4)</td>\n",
       "      <td>[0.28875810157399173, 0.3468326331951831, 0.40...</td>\n",
       "      <td>0.336595</td>\n",
       "      <td>(0, 4)</td>\n",
       "      <td>0.0921915</td>\n",
       "      <td>0.0717281</td>\n",
       "      <td>0.0358641</td>\n",
       "    </tr>\n",
       "    <tr>\n",
       "      <th>3</th>\n",
       "      <td>(0, 4, 7)</td>\n",
       "      <td>[0.3722044698518493, 0.43473464625889346, 0.54...</td>\n",
       "      <td>0.463956</td>\n",
       "      <td>(0, 4, 7)</td>\n",
       "      <td>0.0777282</td>\n",
       "      <td>0.0604752</td>\n",
       "      <td>0.0302376</td>\n",
       "    </tr>\n",
       "    <tr>\n",
       "      <th>4</th>\n",
       "      <td>(0, 1, 4, 7)</td>\n",
       "      <td>[0.4792848778292773, 0.4582312595912741, 0.658...</td>\n",
       "      <td>0.547082</td>\n",
       "      <td>(0, 1, 4, 7)</td>\n",
       "      <td>0.0947616</td>\n",
       "      <td>0.0737278</td>\n",
       "      <td>0.0368639</td>\n",
       "    </tr>\n",
       "    <tr>\n",
       "      <th>5</th>\n",
       "      <td>(0, 1, 3, 4, 7)</td>\n",
       "      <td>[0.5308073112411962, 0.5028648952737464, 0.673...</td>\n",
       "      <td>0.577381</td>\n",
       "      <td>(0, 1, 3, 4, 7)</td>\n",
       "      <td>0.0772636</td>\n",
       "      <td>0.0601137</td>\n",
       "      <td>0.0300568</td>\n",
       "    </tr>\n",
       "    <tr>\n",
       "      <th>6</th>\n",
       "      <td>(0, 1, 2, 3, 4, 7)</td>\n",
       "      <td>[0.5718771572174023, 0.5200606251250548, 0.700...</td>\n",
       "      <td>0.594595</td>\n",
       "      <td>(0, 1, 2, 3, 4, 7)</td>\n",
       "      <td>0.0814962</td>\n",
       "      <td>0.0634068</td>\n",
       "      <td>0.0317034</td>\n",
       "    </tr>\n",
       "    <tr>\n",
       "      <th>7</th>\n",
       "      <td>(0, 1, 2, 3, 4, 6, 7)</td>\n",
       "      <td>[0.5704104342264666, 0.521766631397405, 0.7011...</td>\n",
       "      <td>0.594819</td>\n",
       "      <td>(0, 1, 2, 3, 4, 6, 7)</td>\n",
       "      <td>0.0819043</td>\n",
       "      <td>0.0637243</td>\n",
       "      <td>0.0318622</td>\n",
       "    </tr>\n",
       "    <tr>\n",
       "      <th>8</th>\n",
       "      <td>(0, 1, 2, 3, 4, 5, 6, 7)</td>\n",
       "      <td>[0.5630473491415469, 0.5257154108042232, 0.704...</td>\n",
       "      <td>0.594606</td>\n",
       "      <td>(0, 1, 2, 3, 4, 5, 6, 7)</td>\n",
       "      <td>0.084195</td>\n",
       "      <td>0.0655066</td>\n",
       "      <td>0.0327533</td>\n",
       "    </tr>\n",
       "  </tbody>\n",
       "</table>\n",
       "</div>"
      ],
      "text/plain": [
       "                feature_idx  \\\n",
       "1                      (0,)   \n",
       "2                    (0, 4)   \n",
       "3                 (0, 4, 7)   \n",
       "4              (0, 1, 4, 7)   \n",
       "5           (0, 1, 3, 4, 7)   \n",
       "6        (0, 1, 2, 3, 4, 7)   \n",
       "7     (0, 1, 2, 3, 4, 6, 7)   \n",
       "8  (0, 1, 2, 3, 4, 5, 6, 7)   \n",
       "\n",
       "                                           cv_scores avg_score  \\\n",
       "1  [0.2747242991845942, 0.23987623163020555, 0.29...  0.236714   \n",
       "2  [0.28875810157399173, 0.3468326331951831, 0.40...  0.336595   \n",
       "3  [0.3722044698518493, 0.43473464625889346, 0.54...  0.463956   \n",
       "4  [0.4792848778292773, 0.4582312595912741, 0.658...  0.547082   \n",
       "5  [0.5308073112411962, 0.5028648952737464, 0.673...  0.577381   \n",
       "6  [0.5718771572174023, 0.5200606251250548, 0.700...  0.594595   \n",
       "7  [0.5704104342264666, 0.521766631397405, 0.7011...  0.594819   \n",
       "8  [0.5630473491415469, 0.5257154108042232, 0.704...  0.594606   \n",
       "\n",
       "              feature_names   ci_bound    std_dev    std_err  \n",
       "1                      (0,)  0.0761529  0.0592496  0.0296248  \n",
       "2                    (0, 4)  0.0921915  0.0717281  0.0358641  \n",
       "3                 (0, 4, 7)  0.0777282  0.0604752  0.0302376  \n",
       "4              (0, 1, 4, 7)  0.0947616  0.0737278  0.0368639  \n",
       "5           (0, 1, 3, 4, 7)  0.0772636  0.0601137  0.0300568  \n",
       "6        (0, 1, 2, 3, 4, 7)  0.0814962  0.0634068  0.0317034  \n",
       "7     (0, 1, 2, 3, 4, 6, 7)  0.0819043  0.0637243  0.0318622  \n",
       "8  (0, 1, 2, 3, 4, 5, 6, 7)   0.084195  0.0655066  0.0327533  "
      ]
     },
     "execution_count": 24,
     "metadata": {},
     "output_type": "execute_result"
    }
   ],
   "source": [
    "results"
   ]
  },
  {
   "cell_type": "code",
   "execution_count": 25,
   "id": "068dd74e",
   "metadata": {},
   "outputs": [],
   "source": [
    "log_result= results[[\"feature_idx\",\"feature_names\",\"avg_score\"]]"
   ]
  },
  {
   "cell_type": "code",
   "execution_count": 26,
   "id": "b8143e70",
   "metadata": {},
   "outputs": [
    {
     "data": {
      "text/html": [
       "<div>\n",
       "<style scoped>\n",
       "    .dataframe tbody tr th:only-of-type {\n",
       "        vertical-align: middle;\n",
       "    }\n",
       "\n",
       "    .dataframe tbody tr th {\n",
       "        vertical-align: top;\n",
       "    }\n",
       "\n",
       "    .dataframe thead th {\n",
       "        text-align: right;\n",
       "    }\n",
       "</style>\n",
       "<table border=\"1\" class=\"dataframe\">\n",
       "  <thead>\n",
       "    <tr style=\"text-align: right;\">\n",
       "      <th></th>\n",
       "      <th>feature_idx</th>\n",
       "      <th>feature_names</th>\n",
       "      <th>avg_score</th>\n",
       "    </tr>\n",
       "  </thead>\n",
       "  <tbody>\n",
       "    <tr>\n",
       "      <th>1</th>\n",
       "      <td>(0,)</td>\n",
       "      <td>(0,)</td>\n",
       "      <td>0.236714</td>\n",
       "    </tr>\n",
       "    <tr>\n",
       "      <th>2</th>\n",
       "      <td>(0, 4)</td>\n",
       "      <td>(0, 4)</td>\n",
       "      <td>0.336595</td>\n",
       "    </tr>\n",
       "    <tr>\n",
       "      <th>3</th>\n",
       "      <td>(0, 4, 7)</td>\n",
       "      <td>(0, 4, 7)</td>\n",
       "      <td>0.463956</td>\n",
       "    </tr>\n",
       "    <tr>\n",
       "      <th>4</th>\n",
       "      <td>(0, 1, 4, 7)</td>\n",
       "      <td>(0, 1, 4, 7)</td>\n",
       "      <td>0.547082</td>\n",
       "    </tr>\n",
       "    <tr>\n",
       "      <th>5</th>\n",
       "      <td>(0, 1, 3, 4, 7)</td>\n",
       "      <td>(0, 1, 3, 4, 7)</td>\n",
       "      <td>0.577381</td>\n",
       "    </tr>\n",
       "    <tr>\n",
       "      <th>6</th>\n",
       "      <td>(0, 1, 2, 3, 4, 7)</td>\n",
       "      <td>(0, 1, 2, 3, 4, 7)</td>\n",
       "      <td>0.594595</td>\n",
       "    </tr>\n",
       "    <tr>\n",
       "      <th>7</th>\n",
       "      <td>(0, 1, 2, 3, 4, 6, 7)</td>\n",
       "      <td>(0, 1, 2, 3, 4, 6, 7)</td>\n",
       "      <td>0.594819</td>\n",
       "    </tr>\n",
       "    <tr>\n",
       "      <th>8</th>\n",
       "      <td>(0, 1, 2, 3, 4, 5, 6, 7)</td>\n",
       "      <td>(0, 1, 2, 3, 4, 5, 6, 7)</td>\n",
       "      <td>0.594606</td>\n",
       "    </tr>\n",
       "  </tbody>\n",
       "</table>\n",
       "</div>"
      ],
      "text/plain": [
       "                feature_idx             feature_names avg_score\n",
       "1                      (0,)                      (0,)  0.236714\n",
       "2                    (0, 4)                    (0, 4)  0.336595\n",
       "3                 (0, 4, 7)                 (0, 4, 7)  0.463956\n",
       "4              (0, 1, 4, 7)              (0, 1, 4, 7)  0.547082\n",
       "5           (0, 1, 3, 4, 7)           (0, 1, 3, 4, 7)  0.577381\n",
       "6        (0, 1, 2, 3, 4, 7)        (0, 1, 2, 3, 4, 7)  0.594595\n",
       "7     (0, 1, 2, 3, 4, 6, 7)     (0, 1, 2, 3, 4, 6, 7)  0.594819\n",
       "8  (0, 1, 2, 3, 4, 5, 6, 7)  (0, 1, 2, 3, 4, 5, 6, 7)  0.594606"
      ]
     },
     "execution_count": 26,
     "metadata": {},
     "output_type": "execute_result"
    }
   ],
   "source": [
    "log_result\n"
   ]
  },
  {
   "cell_type": "code",
   "execution_count": 27,
   "id": "624cb955",
   "metadata": {},
   "outputs": [
    {
     "data": {
      "image/png": "[encoded data removed]",
      "text/plain": [
       "<Figure size 640x480 with 1 Axes>"
      ]
     },
     "metadata": {},
     "output_type": "display_data"
    }
   ],
   "source": [
    "# plotting graph\n",
    "from mlxtend.plotting import plot_sequential_feature_selection as plot_sfs\n",
    "\n",
    "# Assuming sfs1 is your SequentialFeatureSelector instance\n",
    "fig = plot_sfs(sf, kind='std_dev')\n",
    "\n",
    "# Rotate x-axis labels for better visibility\n",
    "plt.xticks(rotation='vertical')\n",
    "\n",
    "plt.title('Log_Sequential Forward Selection (w. StdDev)')\n",
    "plt.grid()\n",
    "plt.show()\n"
   ]
  },
  {
   "cell_type": "code",
   "execution_count": 28,
   "id": "4b4645ca",
   "metadata": {},
   "outputs": [],
   "source": [
    "selected_features_idx,selected_features_names,selected_features_score,sfd,results=RF_SFS(RF,X_train_scaled,y_train)\n",
    "results\n",
    "RF_result= results[[\"feature_idx\",\"feature_names\",\"avg_score\"]]"
   ]
  },
  {
   "cell_type": "code",
   "execution_count": null,
   "id": "cc814fc3",
   "metadata": {},
   "outputs": [],
   "source": []
  },
  {
   "cell_type": "code",
   "execution_count": 29,
   "id": "ebc9a0a9",
   "metadata": {},
   "outputs": [
    {
     "data": {
      "image/png": "[encoded data removed]",
      "text/plain": [
       "<Figure size 640x480 with 1 Axes>"
      ]
     },
     "metadata": {},
     "output_type": "display_data"
    }
   ],
   "source": [
    "# plotting graph\n",
    "from mlxtend.plotting import plot_sequential_feature_selection as plot_sfs\n",
    "\n",
    "# Assuming sfs1 is your SequentialFeatureSelector instance\n",
    "fig = plot_sfs( sfd ,kind='std_dev')\n",
    "\n",
    "# Rotate x-axis labels for better visibility\n",
    "plt.xticks(rotation='vertical')\n",
    "\n",
    "plt.title('RF_Sequential Forward Selection (w. StdDev)')\n",
    "plt.grid()\n",
    "plt.show()\n"
   ]
  },
  {
   "cell_type": "code",
   "execution_count": 30,
   "id": "162e88d5",
   "metadata": {},
   "outputs": [],
   "source": [
    "selected_features_idx,selected_features_names, selected_features_score,sfn,results=DT_SFS(DT,X_train_scaled,y_train)\n",
    "results\n",
    "DT_result= results[[\"feature_idx\",\"feature_names\",\"avg_score\"]]"
   ]
  },
  {
   "cell_type": "code",
   "execution_count": 31,
   "id": "35674239",
   "metadata": {},
   "outputs": [
    {
     "data": {
      "text/html": [
       "<div>\n",
       "<style scoped>\n",
       "    .dataframe tbody tr th:only-of-type {\n",
       "        vertical-align: middle;\n",
       "    }\n",
       "\n",
       "    .dataframe tbody tr th {\n",
       "        vertical-align: top;\n",
       "    }\n",
       "\n",
       "    .dataframe thead th {\n",
       "        text-align: right;\n",
       "    }\n",
       "</style>\n",
       "<table border=\"1\" class=\"dataframe\">\n",
       "  <thead>\n",
       "    <tr style=\"text-align: right;\">\n",
       "      <th></th>\n",
       "      <th>feature_idx</th>\n",
       "      <th>feature_names</th>\n",
       "      <th>avg_score</th>\n",
       "    </tr>\n",
       "  </thead>\n",
       "  <tbody>\n",
       "    <tr>\n",
       "      <th>1</th>\n",
       "      <td>(7,)</td>\n",
       "      <td>(7,)</td>\n",
       "      <td>0.400523</td>\n",
       "    </tr>\n",
       "    <tr>\n",
       "      <th>2</th>\n",
       "      <td>(0, 7)</td>\n",
       "      <td>(0, 7)</td>\n",
       "      <td>0.543245</td>\n",
       "    </tr>\n",
       "    <tr>\n",
       "      <th>3</th>\n",
       "      <td>(0, 1, 7)</td>\n",
       "      <td>(0, 1, 7)</td>\n",
       "      <td>0.748809</td>\n",
       "    </tr>\n",
       "    <tr>\n",
       "      <th>4</th>\n",
       "      <td>(0, 1, 3, 7)</td>\n",
       "      <td>(0, 1, 3, 7)</td>\n",
       "      <td>0.825838</td>\n",
       "    </tr>\n",
       "    <tr>\n",
       "      <th>5</th>\n",
       "      <td>(0, 1, 3, 4, 7)</td>\n",
       "      <td>(0, 1, 3, 4, 7)</td>\n",
       "      <td>0.828106</td>\n",
       "    </tr>\n",
       "    <tr>\n",
       "      <th>6</th>\n",
       "      <td>(0, 1, 3, 4, 5, 7)</td>\n",
       "      <td>(0, 1, 3, 4, 5, 7)</td>\n",
       "      <td>0.82832</td>\n",
       "    </tr>\n",
       "    <tr>\n",
       "      <th>7</th>\n",
       "      <td>(0, 1, 2, 3, 4, 5, 7)</td>\n",
       "      <td>(0, 1, 2, 3, 4, 5, 7)</td>\n",
       "      <td>0.82759</td>\n",
       "    </tr>\n",
       "    <tr>\n",
       "      <th>8</th>\n",
       "      <td>(0, 1, 2, 3, 4, 5, 6, 7)</td>\n",
       "      <td>(0, 1, 2, 3, 4, 5, 6, 7)</td>\n",
       "      <td>0.800776</td>\n",
       "    </tr>\n",
       "  </tbody>\n",
       "</table>\n",
       "</div>"
      ],
      "text/plain": [
       "                feature_idx             feature_names avg_score\n",
       "1                      (7,)                      (7,)  0.400523\n",
       "2                    (0, 7)                    (0, 7)  0.543245\n",
       "3                 (0, 1, 7)                 (0, 1, 7)  0.748809\n",
       "4              (0, 1, 3, 7)              (0, 1, 3, 7)  0.825838\n",
       "5           (0, 1, 3, 4, 7)           (0, 1, 3, 4, 7)  0.828106\n",
       "6        (0, 1, 3, 4, 5, 7)        (0, 1, 3, 4, 5, 7)   0.82832\n",
       "7     (0, 1, 2, 3, 4, 5, 7)     (0, 1, 2, 3, 4, 5, 7)   0.82759\n",
       "8  (0, 1, 2, 3, 4, 5, 6, 7)  (0, 1, 2, 3, 4, 5, 6, 7)  0.800776"
      ]
     },
     "execution_count": 31,
     "metadata": {},
     "output_type": "execute_result"
    }
   ],
   "source": [
    "DT_result"
   ]
  },
  {
   "cell_type": "code",
   "execution_count": 32,
   "id": "6ad42b99",
   "metadata": {},
   "outputs": [
    {
     "data": {
      "image/png": "[encoded data removed]",
      "text/plain": [
       "<Figure size 640x480 with 1 Axes>"
      ]
     },
     "metadata": {},
     "output_type": "display_data"
    }
   ],
   "source": [
    "# plotting graph\n",
    "from mlxtend.plotting import plot_sequential_feature_selection as plot_sfs\n",
    "\n",
    "# Assuming sfs1 is your SequentialFeatureSelector instance\n",
    "fig = plot_sfs(sfn, kind='std_dev')\n",
    "\n",
    "# Rotate x-axis labels for better visibility\n",
    "plt.xticks(rotation='vertical')\n",
    "\n",
    "plt.title('DT_Sequential Forward Selection (w. StdDev)')\n",
    "plt.grid()\n",
    "plt.show()\n"
   ]
  },
  {
   "cell_type": "code",
   "execution_count": 33,
   "id": "6e689351",
   "metadata": {},
   "outputs": [],
   "source": [
    "selected_features_idx,selected_features_names, selected_features_score,sfe,results=SVM_SFS(SVM,X_train_scaled,y_train)\n",
    "results\n",
    "SVM_L_result= results[[\"feature_idx\",\"feature_names\",\"avg_score\"]]"
   ]
  },
  {
   "cell_type": "code",
   "execution_count": 34,
   "id": "17b86ddd",
   "metadata": {},
   "outputs": [
    {
     "data": {
      "text/html": [
       "<div>\n",
       "<style scoped>\n",
       "    .dataframe tbody tr th:only-of-type {\n",
       "        vertical-align: middle;\n",
       "    }\n",
       "\n",
       "    .dataframe tbody tr th {\n",
       "        vertical-align: top;\n",
       "    }\n",
       "\n",
       "    .dataframe thead th {\n",
       "        text-align: right;\n",
       "    }\n",
       "</style>\n",
       "<table border=\"1\" class=\"dataframe\">\n",
       "  <thead>\n",
       "    <tr style=\"text-align: right;\">\n",
       "      <th></th>\n",
       "      <th>feature_idx</th>\n",
       "      <th>feature_names</th>\n",
       "      <th>avg_score</th>\n",
       "    </tr>\n",
       "  </thead>\n",
       "  <tbody>\n",
       "    <tr>\n",
       "      <th>1</th>\n",
       "      <td>(0,)</td>\n",
       "      <td>(0,)</td>\n",
       "      <td>0.232415</td>\n",
       "    </tr>\n",
       "    <tr>\n",
       "      <th>2</th>\n",
       "      <td>(0, 1)</td>\n",
       "      <td>(0, 1)</td>\n",
       "      <td>0.33345</td>\n",
       "    </tr>\n",
       "    <tr>\n",
       "      <th>3</th>\n",
       "      <td>(0, 1, 7)</td>\n",
       "      <td>(0, 1, 7)</td>\n",
       "      <td>0.418447</td>\n",
       "    </tr>\n",
       "    <tr>\n",
       "      <th>4</th>\n",
       "      <td>(0, 1, 3, 7)</td>\n",
       "      <td>(0, 1, 3, 7)</td>\n",
       "      <td>0.537517</td>\n",
       "    </tr>\n",
       "    <tr>\n",
       "      <th>5</th>\n",
       "      <td>(0, 1, 2, 3, 7)</td>\n",
       "      <td>(0, 1, 2, 3, 7)</td>\n",
       "      <td>0.553897</td>\n",
       "    </tr>\n",
       "    <tr>\n",
       "      <th>6</th>\n",
       "      <td>(0, 1, 2, 3, 6, 7)</td>\n",
       "      <td>(0, 1, 2, 3, 6, 7)</td>\n",
       "      <td>0.55581</td>\n",
       "    </tr>\n",
       "    <tr>\n",
       "      <th>7</th>\n",
       "      <td>(0, 1, 2, 3, 5, 6, 7)</td>\n",
       "      <td>(0, 1, 2, 3, 5, 6, 7)</td>\n",
       "      <td>0.553892</td>\n",
       "    </tr>\n",
       "    <tr>\n",
       "      <th>8</th>\n",
       "      <td>(0, 1, 2, 3, 4, 5, 6, 7)</td>\n",
       "      <td>(0, 1, 2, 3, 4, 5, 6, 7)</td>\n",
       "      <td>0.552652</td>\n",
       "    </tr>\n",
       "  </tbody>\n",
       "</table>\n",
       "</div>"
      ],
      "text/plain": [
       "                feature_idx             feature_names avg_score\n",
       "1                      (0,)                      (0,)  0.232415\n",
       "2                    (0, 1)                    (0, 1)   0.33345\n",
       "3                 (0, 1, 7)                 (0, 1, 7)  0.418447\n",
       "4              (0, 1, 3, 7)              (0, 1, 3, 7)  0.537517\n",
       "5           (0, 1, 2, 3, 7)           (0, 1, 2, 3, 7)  0.553897\n",
       "6        (0, 1, 2, 3, 6, 7)        (0, 1, 2, 3, 6, 7)   0.55581\n",
       "7     (0, 1, 2, 3, 5, 6, 7)     (0, 1, 2, 3, 5, 6, 7)  0.553892\n",
       "8  (0, 1, 2, 3, 4, 5, 6, 7)  (0, 1, 2, 3, 4, 5, 6, 7)  0.552652"
      ]
     },
     "execution_count": 34,
     "metadata": {},
     "output_type": "execute_result"
    }
   ],
   "source": [
    "SVM_L_result"
   ]
  },
  {
   "cell_type": "code",
   "execution_count": 35,
   "id": "c6f2b8c7",
   "metadata": {},
   "outputs": [
    {
     "data": {
      "image/png": "[encoded data removed]",
      "text/plain": [
       "<Figure size 640x480 with 1 Axes>"
      ]
     },
     "metadata": {},
     "output_type": "display_data"
    }
   ],
   "source": [
    "# plotting graph\n",
    "from mlxtend.plotting import plot_sequential_feature_selection as plot_sfs\n",
    "\n",
    "# Assuming sfs1 is your SequentialFeatureSelector instance\n",
    "fig = plot_sfs(sfe, kind='std_dev')\n",
    "\n",
    "# Rotate x-axis labels for better visibility\n",
    "plt.xticks(rotation='vertical')\n",
    "\n",
    "plt.title('SVM_L Sequential Forward Selection (w. StdDev)')\n",
    "plt.grid()\n",
    "plt.show()\n"
   ]
  },
  {
   "cell_type": "code",
   "execution_count": 36,
   "id": "05fd9e79",
   "metadata": {},
   "outputs": [],
   "source": [
    "selected_features_idx,selected_features_names, selected_features_score,sfa,results=SVM_NL_SFS(SVM_NL,X_train_scaled,y_train)\n",
    "results\n",
    "SVM_NL_result= results[[\"feature_idx\",\"feature_names\",\"avg_score\"]]"
   ]
  },
  {
   "cell_type": "code",
   "execution_count": 37,
   "id": "5ac515c7",
   "metadata": {},
   "outputs": [
    {
     "data": {
      "text/html": [
       "<div>\n",
       "<style scoped>\n",
       "    .dataframe tbody tr th:only-of-type {\n",
       "        vertical-align: middle;\n",
       "    }\n",
       "\n",
       "    .dataframe tbody tr th {\n",
       "        vertical-align: top;\n",
       "    }\n",
       "\n",
       "    .dataframe thead th {\n",
       "        text-align: right;\n",
       "    }\n",
       "</style>\n",
       "<table border=\"1\" class=\"dataframe\">\n",
       "  <thead>\n",
       "    <tr style=\"text-align: right;\">\n",
       "      <th></th>\n",
       "      <th>feature_idx</th>\n",
       "      <th>feature_names</th>\n",
       "      <th>avg_score</th>\n",
       "    </tr>\n",
       "  </thead>\n",
       "  <tbody>\n",
       "    <tr>\n",
       "      <th>1</th>\n",
       "      <td>(7,)</td>\n",
       "      <td>(7,)</td>\n",
       "      <td>0.311119</td>\n",
       "    </tr>\n",
       "    <tr>\n",
       "      <th>2</th>\n",
       "      <td>(0, 7)</td>\n",
       "      <td>(0, 7)</td>\n",
       "      <td>0.54049</td>\n",
       "    </tr>\n",
       "    <tr>\n",
       "      <th>3</th>\n",
       "      <td>(0, 3, 7)</td>\n",
       "      <td>(0, 3, 7)</td>\n",
       "      <td>0.616939</td>\n",
       "    </tr>\n",
       "    <tr>\n",
       "      <th>4</th>\n",
       "      <td>(0, 1, 3, 7)</td>\n",
       "      <td>(0, 1, 3, 7)</td>\n",
       "      <td>0.678795</td>\n",
       "    </tr>\n",
       "    <tr>\n",
       "      <th>5</th>\n",
       "      <td>(0, 1, 2, 3, 7)</td>\n",
       "      <td>(0, 1, 2, 3, 7)</td>\n",
       "      <td>0.682179</td>\n",
       "    </tr>\n",
       "    <tr>\n",
       "      <th>6</th>\n",
       "      <td>(0, 1, 2, 3, 6, 7)</td>\n",
       "      <td>(0, 1, 2, 3, 6, 7)</td>\n",
       "      <td>0.664554</td>\n",
       "    </tr>\n",
       "    <tr>\n",
       "      <th>7</th>\n",
       "      <td>(0, 1, 2, 3, 4, 6, 7)</td>\n",
       "      <td>(0, 1, 2, 3, 4, 6, 7)</td>\n",
       "      <td>0.657135</td>\n",
       "    </tr>\n",
       "    <tr>\n",
       "      <th>8</th>\n",
       "      <td>(0, 1, 2, 3, 4, 5, 6, 7)</td>\n",
       "      <td>(0, 1, 2, 3, 4, 5, 6, 7)</td>\n",
       "      <td>0.629361</td>\n",
       "    </tr>\n",
       "  </tbody>\n",
       "</table>\n",
       "</div>"
      ],
      "text/plain": [
       "                feature_idx             feature_names avg_score\n",
       "1                      (7,)                      (7,)  0.311119\n",
       "2                    (0, 7)                    (0, 7)   0.54049\n",
       "3                 (0, 3, 7)                 (0, 3, 7)  0.616939\n",
       "4              (0, 1, 3, 7)              (0, 1, 3, 7)  0.678795\n",
       "5           (0, 1, 2, 3, 7)           (0, 1, 2, 3, 7)  0.682179\n",
       "6        (0, 1, 2, 3, 6, 7)        (0, 1, 2, 3, 6, 7)  0.664554\n",
       "7     (0, 1, 2, 3, 4, 6, 7)     (0, 1, 2, 3, 4, 6, 7)  0.657135\n",
       "8  (0, 1, 2, 3, 4, 5, 6, 7)  (0, 1, 2, 3, 4, 5, 6, 7)  0.629361"
      ]
     },
     "execution_count": 37,
     "metadata": {},
     "output_type": "execute_result"
    }
   ],
   "source": [
    "SVM_NL_result"
   ]
  },
  {
   "cell_type": "code",
   "execution_count": 38,
   "id": "651f79a7",
   "metadata": {},
   "outputs": [
    {
     "data": {
      "image/png": "[encoded data removed]",
      "text/plain": [
       "<Figure size 640x480 with 1 Axes>"
      ]
     },
     "metadata": {},
     "output_type": "display_data"
    }
   ],
   "source": [
    "# plotting graph\n",
    "from mlxtend.plotting import plot_sequential_feature_selection as plot_sfs\n",
    "\n",
    "# Assuming sfs1 is your SequentialFeatureSelector instance\n",
    "fig = plot_sfs(sfa, kind='std_dev')\n",
    "\n",
    "# Rotate x-axis labels for better visibility\n",
    "plt.xticks(rotation='vertical')\n",
    "\n",
    "plt.title('SVM_NL Sequential Forward Selection (w. StdDev)')\n",
    "plt.grid()\n",
    "plt.show()\n"
   ]
  },
  {
   "cell_type": "code",
   "execution_count": 39,
   "id": "88675143",
   "metadata": {},
   "outputs": [],
   "source": [
    "# Combine the two DataFrames vertically (along rows)\n",
    "#combined_results = pd.concat([log_result,RF_result,DT_result,SVM_L_result,SVM_NL_result], ignore_index=True)\n"
   ]
  },
  {
   "cell_type": "code",
   "execution_count": 40,
   "id": "4739739a",
   "metadata": {},
   "outputs": [],
   "source": [
    "# Print or use the combined_results DataFrame\n",
    "#combined_results"
   ]
  },
  {
   "cell_type": "code",
   "execution_count": null,
   "id": "436bf7c9",
   "metadata": {},
   "outputs": [],
   "source": []
  }
 ],
 "metadata": {
  "kernelspec": {
   "display_name": "Python 3 (ipykernel)",
   "language": "python",
   "name": "python3"
  },
  "language_info": {
   "codemirror_mode": {
    "name": "ipython",
    "version": 3
   },
   "file_extension": ".py",
   "mimetype": "text/x-python",
   "name": "python",
   "nbconvert_exporter": "python",
   "pygments_lexer": "ipython3",
   "version": "3.7.6"
  }
 },
 "nbformat": 4,
 "nbformat_minor": 5
}
